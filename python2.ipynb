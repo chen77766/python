{
  "nbformat": 4,
  "nbformat_minor": 0,
  "metadata": {
    "colab": {
      "name": "Untitled1.ipynb",
      "provenance": [],
      "collapsed_sections": [],
      "authorship_tag": "ABX9TyOUPxAONgBbwK0E7M5Vhu3u",
      "include_colab_link": true
    },
    "kernelspec": {
      "name": "python3",
      "display_name": "Python 3"
    },
    "language_info": {
      "name": "python"
    }
  },
  "cells": [
    {
      "cell_type": "markdown",
      "metadata": {
        "id": "view-in-github",
        "colab_type": "text"
      },
      "source": [
        "<a href=\"https://colab.research.google.com/github/chen77766/python/blob/main/python2.ipynb\" target=\"_parent\"><img src=\"https://colab.research.google.com/assets/colab-badge.svg\" alt=\"Open In Colab\"/></a>"
      ]
    },
    {
      "cell_type": "code",
      "execution_count": null,
      "metadata": {
        "colab": {
          "base_uri": "https://localhost:8080/"
        },
        "id": "hrMRYhkDdXeS",
        "outputId": "823ac264-2771-495a-e8a9-89d142e36b1f"
      },
      "outputs": [
        {
          "output_type": "execute_result",
          "data": {
            "text/plain": [
              "19"
            ]
          },
          "metadata": {},
          "execution_count": 1
        }
      ],
      "source": [
        "a=9\n",
        "b=10\n",
        "a+b"
      ]
    },
    {
      "cell_type": "code",
      "source": [
        "import calendar  #月曆\n",
        "print(calendar.month(2022,3))\n"
      ],
      "metadata": {
        "colab": {
          "base_uri": "https://localhost:8080/"
        },
        "id": "58hdALvAdjjp",
        "outputId": "b1063de1-7922-4f9a-9a56-51f60c3c6c14"
      },
      "execution_count": null,
      "outputs": [
        {
          "output_type": "stream",
          "name": "stdout",
          "text": [
            "     March 2022\n",
            "Mo Tu We Th Fr Sa Su\n",
            "    1  2  3  4  5  6\n",
            " 7  8  9 10 11 12 13\n",
            "14 15 16 17 18 19 20\n",
            "21 22 23 24 25 26 27\n",
            "28 29 30 31\n",
            "\n"
          ]
        }
      ]
    },
    {
      "cell_type": "code",
      "source": [
        "print(calendar.calendar(2022)) #整年月曆\n"
      ],
      "metadata": {
        "id": "XcGEaMkBdw5o"
      },
      "execution_count": null,
      "outputs": []
    },
    {
      "cell_type": "code",
      "source": [
        "import requests\n",
        "a=requests.get(\"http://www.must.edu.tw\") #網址程式碼\n",
        "print(a.text)"
      ],
      "metadata": {
        "id": "yCA6c8S2d6ID"
      },
      "execution_count": null,
      "outputs": []
    },
    {
      "cell_type": "code",
      "source": [
        "import  matplotlib.pyplot as plt  #x y軸圖形\n",
        "x=[1,2,3]\n",
        "y=[4,5,6]\n",
        "plt.bar(x,y)\n",
        "plt.show()"
      ],
      "metadata": {
        "colab": {
          "base_uri": "https://localhost:8080/",
          "height": 265
        },
        "id": "ZkFMk6PTfIvZ",
        "outputId": "843f46cd-1980-4454-e68f-30aef1c141a5"
      },
      "execution_count": null,
      "outputs": [
        {
          "output_type": "display_data",
          "data": {
            "text/plain": [
              "<Figure size 432x288 with 1 Axes>"
            ],
            "image/png": "[encoded data removed]"
          },
          "metadata": {
            "needs_background": "light"
          }
        }
      ]
    },
    {
      "cell_type": "code",
      "source": [
        "plt.pie(x, labels=y) #圓形圖\n",
        "plt.show()"
      ],
      "metadata": {
        "colab": {
          "base_uri": "https://localhost:8080/",
          "height": 248
        },
        "id": "uGP40040fY9-",
        "outputId": "b94410ef-3968-4f59-9ebd-9b8fa742da84"
      },
      "execution_count": null,
      "outputs": [
        {
          "output_type": "display_data",
          "data": {
            "text/plain": [
              "<Figure size 432x288 with 1 Axes>"
            ],
            "image/png": "[encoded data removed]"
          },
          "metadata": {}
        }
      ]
    },
    {
      "cell_type": "code",
      "source": [
        "a=3  #單行註解\n",
        "b=5\n",
        "print(a+b)"
      ],
      "metadata": {
        "colab": {
          "base_uri": "https://localhost:8080/"
        },
        "id": "M7HN2z73fr3S",
        "outputId": "332b0bc3-2b75-486c-b7b3-37dde6bcf7d1"
      },
      "execution_count": null,
      "outputs": [
        {
          "output_type": "stream",
          "name": "stdout",
          "text": [
            "8\n"
          ]
        }
      ]
    },
    {
      "cell_type": "code",
      "source": [
        "'''\n",
        "多行註解\n",
        "多行註解\n",
        "多行註解\n",
        "'''\n",
        "a=3\n",
        "b=5\n",
        "print(a+b)"
      ],
      "metadata": {
        "id": "v-qTDwtQf76O"
      },
      "execution_count": null,
      "outputs": []
    },
    {
      "cell_type": "code",
      "source": [
        "#變數交換 運算式\n",
        "x=1\n",
        "y=10\n",
        "\n",
        "z=x\n",
        "x=y\n",
        "y=z\n",
        "print(x)\n",
        "print(y)"
      ],
      "metadata": {
        "id": "MLZ2gUtQgHy7"
      },
      "execution_count": null,
      "outputs": []
    },
    {
      "cell_type": "code",
      "source": [
        "x=1 #變數加減交換\n",
        "y=10\n",
        "\n",
        "x=x+y\n",
        "y=x-y\n",
        "x=x-y\n",
        "print(x)\n",
        "print(y)"
      ],
      "metadata": {
        "id": "gswLdsGLgQDZ"
      },
      "execution_count": null,
      "outputs": []
    },
    {
      "cell_type": "code",
      "source": [
        "#python版本的變數交換\n",
        "x=1\n",
        "y=10\n",
        "x,y = y,x\n",
        "print(x)\n",
        "print(y)"
      ],
      "metadata": {
        "id": "GaWQaW21gW77"
      },
      "execution_count": null,
      "outputs": []
    },
    {
      "cell_type": "code",
      "source": [
        "x, y, z= 3, 4, 5 #變數的平行設定\n",
        "print(x)\n",
        "print(y)\n",
        "print(z)"
      ],
      "metadata": {
        "id": "MONRTXAigbiu"
      },
      "execution_count": null,
      "outputs": []
    },
    {
      "cell_type": "code",
      "source": [
        "x, y, z = 3, 4, 5\n",
        "x += 1 #x=x+1\n",
        "y *= 2 #y=y*2\n",
        "z **= 3 #z^3\n",
        "print(x, y, z)"
      ],
      "metadata": {
        "id": "dB3LQch_hSpA"
      },
      "execution_count": null,
      "outputs": []
    },
    {
      "cell_type": "code",
      "source": [
        "\n",
        "'''\n",
        "變數的應用\n",
        "Q：邊長為3, 4, 5的三角形，其面積大小為何?\n",
        "海龍公式：\n",
        "s=(a+b+c)/2\n",
        "sqrt(s(s-a)(s-b)(s-c))\n",
        "'''\n",
        "import math\n",
        "a,b,c=3,4,5\n",
        "s=(a+b+c)/2\n",
        "d=math.sqrt(s*(s-a)*(s-b)*(s-c))\n",
        "print(d)"
      ],
      "metadata": {
        "id": "ByeGiNijhV-v"
      },
      "execution_count": null,
      "outputs": []
    },
    {
      "cell_type": "code",
      "source": [
        "#資料型別\n",
        "#python屬於動態類型變數，使用前不需要宣告資料型態\n",
        "x=254\n",
        "print(type(x))\n",
        "y=254.0\n",
        "print(type(y))\n",
        "z='write'\n",
        "print(type(z))\n",
        "print(type(x==y))"
      ],
      "metadata": {
        "id": "QTsLphCjhgsI"
      },
      "execution_count": null,
      "outputs": []
    },
    {
      "cell_type": "code",
      "source": [
        "x=10 #算術符號\n",
        "y=3\n",
        "print(x/y)#求值\n",
        "print(x//y)#求商\n",
        "print(x%y)#求餘數"
      ],
      "metadata": {
        "id": "kaYmOuHGht6E"
      },
      "execution_count": null,
      "outputs": []
    },
    {
      "cell_type": "code",
      "source": [
        "x=3.141592627  #注意數字的正確性\n",
        "print(x-3.14) #比正確值略小"
      ],
      "metadata": {
        "id": "iH1XbtXEhzDM"
      },
      "execution_count": null,
      "outputs": []
    },
    {
      "cell_type": "code",
      "source": [
        "x=(5*(1+2)**2-3+4/2) #算術符號的順序 #()括號 > *次方 > / 乘除 > +-加減\n",
        "print(x)"
      ],
      "metadata": {
        "id": "1R_dI2QwiViF"
      },
      "execution_count": null,
      "outputs": []
    },
    {
      "cell_type": "code",
      "source": [
        "print(10==10)\n",
        "x, y = 10, 20\n",
        "print(x==y)  # == 關係比較\n",
        "x=y          # =  指派值\n",
        "print(x)"
      ],
      "metadata": {
        "id": "QiqMdX-yieyn"
      },
      "execution_count": null,
      "outputs": []
    },
    {
      "cell_type": "code",
      "source": [
        "y=2010\n",
        "print(y%4==0 and y%100!=0 or y%400==0) #關係運算，以閏年為例\n",
        "y=2012\n",
        "print(y%4==0 and y%100!=0 or y%400==0)\n",
        "y=1900\n",
        "print(y%4==0 and y%100!=0 or y%400==0)\n",
        "y=2000\n",
        "print(y%4==0 and y%100!=0 or y%400==0)"
      ],
      "metadata": {
        "id": "58hjm_0NijGG"
      },
      "execution_count": null,
      "outputs": []
    },
    {
      "cell_type": "code",
      "source": [
        "#小心不同型態之間所得到的結果跟想像不同\n",
        "x=\"must\"\n",
        "print(10*x)\n",
        "print(\"10\"+x)\n",
        "print(10,x)"
      ],
      "metadata": {
        "id": "k2jXOn2bi4Bq"
      },
      "execution_count": null,
      "outputs": []
    },
    {
      "cell_type": "code",
      "source": [
        "x=12\n",
        "print(type(x))\n",
        "y=float(x)+0.5 #強制型別轉換\n",
        "print(type(y))\n",
        "print(int(\"123\"))\n",
        "print(int(123.33))\n",
        "print(int(float(\"123.33\")))\n"
      ],
      "metadata": {
        "id": "m_agGxRJi6RR"
      },
      "execution_count": null,
      "outputs": []
    },
    {
      "cell_type": "code",
      "source": [
        "#字串的型別轉換\n",
        "x=10*3.25  #x=32.5\n",
        "y=200*200  #y=40000\n",
        "s=\"The value of x is \" + str(x) + ' and y is ' + str(y)\n",
        "print(s)\n",
        "print(\"The value of x is\", x,\"and y is\", y)\n",
        "print(\"The value of x is {} and y is {}\".format(x,y))"
      ],
      "metadata": {
        "id": "Ox43vb9wi7-_"
      },
      "execution_count": null,
      "outputs": []
    },
    {
      "cell_type": "code",
      "source": [
        "import math # 非內建模組\n",
        "print(math.pi)\n",
        "print(math.pow(2,3))\n",
        "print(8.3*10.58*math.sin(37.0/180*math.pi)/2)\n",
        "print(math.sqrt(25))"
      ],
      "metadata": {
        "id": "HxFUtwvji9pb"
      },
      "execution_count": null,
      "outputs": []
    },
    {
      "cell_type": "code",
      "source": [
        "import math  #範例：算圓面積\n",
        "r=input(\"請輸入圓的半徑：\")\n",
        "area=float(r)*float(r)*math.pi\n",
        "print(\"圓面積為：\",area)"
      ],
      "metadata": {
        "id": "vH0xmn9DjBUA"
      },
      "execution_count": null,
      "outputs": []
    },
    {
      "cell_type": "code",
      "source": [
        "r=input(\"請輸入矩形的長：\") #應用題：算矩形面積\n",
        "w=input(\"請輸入矩形的寬：\")\n",
        "area=float(r)*float(w)\n",
        "print(\"矩形面積為：\",area)"
      ],
      "metadata": {
        "id": "Fr_1hX7ljFvG"
      },
      "execution_count": null,
      "outputs": []
    },
    {
      "cell_type": "code",
      "source": [
        "print(eval(\"3+5\")) #eval函數 #eval會把str型態的表示式，轉換成數學式進行計算\n",
        "id=input(\"請輸入產品編號：\")\n",
        "print(type(id))\n",
        "print(type(eval(id)))"
      ],
      "metadata": {
        "id": "mHkVQBOAjRB7"
      },
      "execution_count": null,
      "outputs": []
    },
    {
      "cell_type": "code",
      "source": [
        "#print的三種方式\n",
        "#透過,區隔要列印的變數 eg: print(\"This\", \"is\", \"a\", \"book\")\n",
        "#利用字串的str.format() (新式)\n",
        "#%格式化输出字符串 (舊式)\n",
        "print(\"This\", \"is\", \"a\", \"book\")\n",
        "print(\"This\"+\"is\"+\"a\"+\"book\")"
      ],
      "metadata": {
        "id": "Hx4DAqaOjXV7"
      },
      "execution_count": null,
      "outputs": []
    },
    {
      "cell_type": "code",
      "source": [
        "print(\"This {} a book\".format(\"is\"))\n",
        "x=123456.7890\n",
        "print(\"{:.2f}\".format(x))  #小數點.後兩位\n",
        "print(\"{:,.2f}\".format(x)) #,小數點前用,分開"
      ],
      "metadata": {
        "id": "p6B9bHqEjZ2C"
      },
      "execution_count": null,
      "outputs": []
    },
    {
      "cell_type": "code",
      "source": [
        "print(\"This %-10s a %10s\" % (\"is\", \"book\")) #字串占10格，靠右2格\n",
        "print(\"%7.3f\" % 6789.4333)"
      ],
      "metadata": {
        "id": "AI2xHFVIjmsi"
      },
      "execution_count": null,
      "outputs": []
    },
    {
      "cell_type": "code",
      "source": [
        "a=3 #流程控制 if else , elif\n",
        "b=4\n",
        "if a <= b:\n",
        "    print(\"b是比較大的數字\")\n",
        "else:\n",
        "    print(\"a是比較大的數字\")"
      ],
      "metadata": {
        "id": "UqY_pksJjrTT"
      },
      "execution_count": null,
      "outputs": []
    },
    {
      "cell_type": "code",
      "source": [
        "grade=87 #成績評鑑\n",
        "print(\"成績評鑑：\")\n",
        "if grade >= 90:\n",
        "    print(\"優等\")\n",
        "elif grade >=80:\n",
        "    print(\"甲等\")\n",
        "elif grade >=70:\n",
        "    print(\"乙等\")\n",
        "elif grade >=60:\n",
        "    print(\"丙等\")\n",
        "else:\n",
        "    print(\"不及格\")"
      ],
      "metadata": {
        "id": "nfDsxTfZlq4M"
      },
      "execution_count": null,
      "outputs": []
    },
    {
      "cell_type": "code",
      "source": [
        "#1+2+3...+10總和 #for 迴圈\n",
        "sum = 0\n",
        "for count in range(1, 11, 1): #從1開始，間隔1, 不包含11\n",
        "    sum += count\n",
        "print(\"1+2+3+...+10 =\", sum)"
      ],
      "metadata": {
        "id": "NXbQvcTFmRZp"
      },
      "execution_count": null,
      "outputs": []
    },
    {
      "cell_type": "code",
      "source": [
        "#range另外一種寫法\n",
        "#1+2+3...+10總和\n",
        "sum = 0\n",
        "for count in range(11): #1-10, 不包含11\n",
        "    sum += count\n",
        "print(\"1+2+3+...+10 =\", sum)"
      ],
      "metadata": {
        "id": "EROranfFmWmI"
      },
      "execution_count": null,
      "outputs": []
    },
    {
      "cell_type": "code",
      "source": [
        "mylist=\"for statement\"\n",
        "for c in mylist:\n",
        "    print(c)\n",
        "print(\"end list\")\n"
      ],
      "metadata": {
        "id": "K_6zH6XcmYbL"
      },
      "execution_count": null,
      "outputs": []
    },
    {
      "cell_type": "code",
      "source": [
        "for pl in [\"Java\", \"C#\", \"Python\"]:\n",
        "  print(pl)"
      ],
      "metadata": {
        "id": "CIBWcxdBmasw"
      },
      "execution_count": null,
      "outputs": []
    },
    {
      "cell_type": "code",
      "source": [
        "#while迴圈\n",
        "sum=0\n",
        "count=1\n",
        "while count <=10:\n",
        "    sum += count\n",
        "    count += 1\n",
        "print(\"1+2+3+...+10=\",sum)"
      ],
      "metadata": {
        "id": "7NVVb1iHme4u"
      },
      "execution_count": null,
      "outputs": []
    },
    {
      "cell_type": "code",
      "source": [
        "#亂數\n",
        "import random\n",
        "for i in range(0,10):\n",
        "    print(random.randint(1,9))"
      ],
      "metadata": {
        "id": "TORCdxqgmveh"
      },
      "execution_count": null,
      "outputs": []
    },
    {
      "cell_type": "code",
      "source": [
        ""
      ],
      "metadata": {
        "id": "_5zhYvQAnCQw"
      },
      "execution_count": null,
      "outputs": []
    },
    {
      "cell_type": "code",
      "source": [
        "#List[串列] Tuple(元組) Dictionary{字典} Sets{集合}\n",
        "#List[串列]"
      ],
      "metadata": {
        "id": "59bMS30zlqi5"
      },
      "execution_count": null,
      "outputs": []
    },
    {
      "cell_type": "code",
      "execution_count": null,
      "metadata": {
        "colab": {
          "base_uri": "https://localhost:8080/"
        },
        "id": "FuUImyPhkJjB",
        "outputId": "dc6aa295-df98-4f13-8332-ce095a59e0bb"
      },
      "outputs": [
        {
          "output_type": "stream",
          "name": "stdout",
          "text": [
            "3600\n"
          ]
        }
      ],
      "source": [
        "expenses = [1138, 101, 12, 300, 2049]\n",
        "print(sum(expenses))"
      ]
    },
    {
      "cell_type": "code",
      "source": [
        "#索引\n",
        "expenses = [1138, 101, 12, 300, 2049]\n",
        "print(expenses[0]) #索引從0開始\n",
        "print(expenses[1])\n",
        "print(expenses[-1]) #倒數第一個\n",
        "print(expenses[-2])\n"
      ],
      "metadata": {
        "colab": {
          "base_uri": "https://localhost:8080/"
        },
        "id": "TNwBEHL7lu2O",
        "outputId": "c2db2084-102d-4493-c56a-b93cb2a1de6c"
      },
      "execution_count": null,
      "outputs": [
        {
          "output_type": "stream",
          "name": "stdout",
          "text": [
            "1138\n",
            "101\n",
            "2049\n",
            "300\n"
          ]
        }
      ]
    },
    {
      "cell_type": "code",
      "source": [
        "my_list0 = [] #空串列\n",
        "my_list1 = list() \n",
        "my_list2 = ['python', 'javascript', 'C#']\n",
        "print(my_list2[0])\n"
      ],
      "metadata": {
        "colab": {
          "base_uri": "https://localhost:8080/"
        },
        "id": "zLhyPO2Fl02P",
        "outputId": "693205cf-f365-4dfc-8475-db9a4dbaefda"
      },
      "execution_count": null,
      "outputs": [
        {
          "output_type": "stream",
          "name": "stdout",
          "text": [
            "python\n"
          ]
        }
      ]
    },
    {
      "cell_type": "code",
      "source": [
        "#list的長度\n",
        "my_list2 = ['python', 'javascript', 'C#']\n",
        "print(len(my_list2))\n",
        "print(len(my_list2[0]))"
      ],
      "metadata": {
        "colab": {
          "base_uri": "https://localhost:8080/"
        },
        "id": "GL-0v3c4mYDy",
        "outputId": "66493e70-95bc-4235-e976-8cbbb3c8720b"
      },
      "execution_count": null,
      "outputs": [
        {
          "output_type": "stream",
          "name": "stdout",
          "text": [
            "3\n",
            "6\n"
          ]
        }
      ]
    },
    {
      "cell_type": "code",
      "source": [
        "#附加\n",
        "my_list2 = ['python', 'javascript', 'C#']\n",
        "my_list2.append('java')\n",
        "print(my_list2)"
      ],
      "metadata": {
        "colab": {
          "base_uri": "https://localhost:8080/"
        },
        "id": "gubX36QHmb00",
        "outputId": "2a510fd8-191c-48b0-8e22-309b80e56d2d"
      },
      "execution_count": null,
      "outputs": [
        {
          "output_type": "stream",
          "name": "stdout",
          "text": [
            "['python', 'javascript', 'C#', 'java']\n"
          ]
        }
      ]
    },
    {
      "cell_type": "code",
      "source": [
        "my_list2 = ['python', 'javascript', 'C#']\n",
        "my_list2.insert(1,'java')\n",
        "print(my_list2)"
      ],
      "metadata": {
        "colab": {
          "base_uri": "https://localhost:8080/"
        },
        "id": "TNwZDBHmmdqJ",
        "outputId": "d58f280a-bed2-4cb4-be17-529f178914ca"
      },
      "execution_count": null,
      "outputs": [
        {
          "output_type": "stream",
          "name": "stdout",
          "text": [
            "['python', 'java', 'javascript', 'C#']\n"
          ]
        }
      ]
    },
    {
      "cell_type": "code",
      "source": [
        "#刪除\n",
        "my_list2 = ['python', 'javascript', 'C#']\n",
        "my_list2.remove('python') #移除指定元素\n",
        "print(my_list2)\n",
        "del my_list2[-1] #刪除指定位置的元素\n",
        "print(my_list2)\n",
        "my_list2.clear() #清除全部\n",
        "print(my_list2)"
      ],
      "metadata": {
        "colab": {
          "base_uri": "https://localhost:8080/"
        },
        "id": "IgnfNNJNmfxu",
        "outputId": "f0afaf0c-94d5-4c7d-a195-18d6fdbd33cb"
      },
      "execution_count": null,
      "outputs": [
        {
          "output_type": "stream",
          "name": "stdout",
          "text": [
            "['javascript', 'C#']\n",
            "['javascript']\n",
            "[]\n"
          ]
        }
      ]
    },
    {
      "cell_type": "code",
      "source": [
        "a=[1,2]\n",
        "print(a*5)"
      ],
      "metadata": {
        "colab": {
          "base_uri": "https://localhost:8080/"
        },
        "id": "4TvASUikmkQS",
        "outputId": "2a0fb010-5464-4f60-dbae-a19896ab43eb"
      },
      "execution_count": null,
      "outputs": [
        {
          "output_type": "stream",
          "name": "stdout",
          "text": [
            "[1, 2, 1, 2, 1, 2, 1, 2, 1, 2]\n"
          ]
        }
      ]
    },
    {
      "cell_type": "code",
      "source": [
        "a=[1,2,3,4,5,6,7,8,9]\n",
        "b=a[0:3] #範圍取值，0,1,2不包含3\n",
        "print(b)\n",
        "c=a[0:9:2] #間隔2取值\n",
        "print(c)\n",
        "d = a[0: ]\n",
        "print(d)\n",
        "e = a[ :9]\n",
        "print(e)\n",
        "f = a[:] #取全部值\n",
        "print(f)"
      ],
      "metadata": {
        "colab": {
          "base_uri": "https://localhost:8080/"
        },
        "id": "dV3T4rgOm0j3",
        "outputId": "c0482c07-ec39-4b9d-e18f-5c6a30726b02"
      },
      "execution_count": null,
      "outputs": [
        {
          "output_type": "stream",
          "name": "stdout",
          "text": [
            "[1, 2, 3]\n",
            "[1, 3, 5, 7, 9]\n",
            "[1, 2, 3, 4, 5, 6, 7, 8, 9]\n",
            "[1, 2, 3, 4, 5, 6, 7, 8, 9]\n",
            "[1, 2, 3, 4, 5, 6, 7, 8, 9]\n"
          ]
        }
      ]
    },
    {
      "cell_type": "code",
      "source": [
        "a=[1,2,3,4,5,6,7,8,9]\n",
        "del a[7:9] #刪除某範圍值, 7, 8\n",
        "print(a)\n",
        "print(min(a)) #最小值\n",
        "print(max(a)) #最大值\n",
        "print(a.index(1)) #找出1所在的第一個索引值\n",
        "b=[1,0,0,1,1,1]\n",
        "print(b.count(1)) #1出現的次數\n",
        "a.reverse() #串列反轉\n",
        "print(a)\n",
        "a.sort() #串列由小到大排序,a的值會被改變\n",
        "print(a)"
      ],
      "metadata": {
        "colab": {
          "base_uri": "https://localhost:8080/"
        },
        "id": "kXupKxUgm4Kw",
        "outputId": "6d653fb7-af64-4423-b5e7-c5c0f55ede4c"
      },
      "execution_count": null,
      "outputs": [
        {
          "output_type": "stream",
          "name": "stdout",
          "text": [
            "[1, 2, 3, 4, 5, 6, 7]\n",
            "1\n",
            "7\n",
            "0\n",
            "4\n",
            "[7, 6, 5, 4, 3, 2, 1]\n",
            "[1, 2, 3, 4, 5, 6, 7]\n"
          ]
        }
      ]
    },
    {
      "cell_type": "code",
      "source": [
        "expenses = [1138, 101, 12, 300, 2049]\n",
        "s=sorted(expenses) #expenses的值不會變\n",
        "print(s, expenses)"
      ],
      "metadata": {
        "colab": {
          "base_uri": "https://localhost:8080/"
        },
        "id": "mC_ay4kNm6Rc",
        "outputId": "a2c076e4-dfbb-4d20-c677-0d765fc67597"
      },
      "execution_count": null,
      "outputs": [
        {
          "output_type": "stream",
          "name": "stdout",
          "text": [
            "[12, 101, 300, 1138, 2049] [1138, 101, 12, 300, 2049]\n"
          ]
        }
      ]
    },
    {
      "cell_type": "code",
      "source": [
        "#Tuple (元組)\n",
        "#tuple(元組)可視為不可改變的串列，tuple跟list很像，但是我們不能新增、刪除或更新tuple的元素。tuple的好處有：\n",
        "\n",
        "#1佔用較少空間\n",
        "#2可當作dictionary(字典)的鍵值\n",
        "#3可當作函式引數"
      ],
      "metadata": {
        "id": "pNc3MKulm7Ob"
      },
      "execution_count": null,
      "outputs": []
    },
    {
      "cell_type": "code",
      "source": [
        "a_tuple=('python', 'js', 'SQL')\n",
        "print(a_tuple)\n",
        "b_list=['go', 'c#', 'vb']\n",
        "b_tuple=tuple(b_list)\n",
        "print(b_tuple)\n",
        "print(b_tuple[0])"
      ],
      "metadata": {
        "colab": {
          "base_uri": "https://localhost:8080/"
        },
        "id": "p1OIKCmpnXmN",
        "outputId": "19725972-5110-4646-f95a-e5b405eda7d4"
      },
      "execution_count": null,
      "outputs": [
        {
          "output_type": "stream",
          "name": "stdout",
          "text": [
            "('python', 'js', 'SQL')\n",
            "('go', 'c#', 'vb')\n",
            "go\n"
          ]
        }
      ]
    },
    {
      "cell_type": "code",
      "source": [
        "#字典(dictionary - dict)為帶有鍵值(key)的串列(list)\n",
        "languages = {}\n",
        "languages = {'name':'python', 'version':'3.7'} #索引值(鍵值)可以自訂\n",
        "print(languages['name'])\n",
        "print(languages['version'])\n",
        "a={0:'python', 1:'java', 2:'SQL'}\n",
        "print(a[0])\n",
        "print(a[1])\n",
        "print(a[2])\n",
        "print(languages)\n",
        "print(languages.keys())\n",
        "print(languages.values())\n",
        "print(languages.items())\n",
        "print('name' in languages)"
      ],
      "metadata": {
        "colab": {
          "base_uri": "https://localhost:8080/"
        },
        "id": "MLonTTpknba2",
        "outputId": "c7418d1a-4719-43d8-f4aa-31ba08d35315"
      },
      "execution_count": null,
      "outputs": [
        {
          "output_type": "stream",
          "name": "stdout",
          "text": [
            "python\n",
            "3.7\n",
            "python\n",
            "java\n",
            "SQL\n",
            "{'name': 'python', 'version': '3.7'}\n",
            "dict_keys(['name', 'version'])\n",
            "dict_values(['python', '3.7'])\n",
            "dict_items([('name', 'python'), ('version', '3.7')])\n",
            "True\n"
          ]
        }
      ]
    },
    {
      "cell_type": "code",
      "source": [
        "#{'name': 'python', 'version': '3.7'}\n",
        "#dict_keys(['name', 'version'])\n",
        "#dict_values(['python', '3.7'])\n",
        "#dict_items([('name', 'python'), ('version', '3.7')])\n",
        "#True"
      ],
      "metadata": {
        "colab": {
          "base_uri": "https://localhost:8080/",
          "height": 237
        },
        "id": "WXT3GeTXn7J4",
        "outputId": "9d7955c3-89c0-4127-bb02-a3cdad5e95da"
      },
      "execution_count": null,
      "outputs": [
        {
          "output_type": "error",
          "ename": "NameError",
          "evalue": "ignored",
          "traceback": [
            "\u001b[0;31m---------------------------------------------------------------------------\u001b[0m",
            "\u001b[0;31mNameError\u001b[0m                                 Traceback (most recent call last)",
            "\u001b[0;32m<ipython-input-17-904742737361>\u001b[0m in \u001b[0;36m<module>\u001b[0;34m()\u001b[0m\n\u001b[1;32m      1\u001b[0m \u001b[0;34m{\u001b[0m\u001b[0;34m'name'\u001b[0m\u001b[0;34m:\u001b[0m \u001b[0;34m'python'\u001b[0m\u001b[0;34m,\u001b[0m \u001b[0;34m'version'\u001b[0m\u001b[0;34m:\u001b[0m \u001b[0;34m'3.7'\u001b[0m\u001b[0;34m}\u001b[0m\u001b[0;34m\u001b[0m\u001b[0;34m\u001b[0m\u001b[0m\n\u001b[0;32m----> 2\u001b[0;31m \u001b[0mdict_keys\u001b[0m\u001b[0;34m(\u001b[0m\u001b[0;34m[\u001b[0m\u001b[0;34m'name'\u001b[0m\u001b[0;34m,\u001b[0m \u001b[0;34m'version'\u001b[0m\u001b[0;34m]\u001b[0m\u001b[0;34m)\u001b[0m\u001b[0;34m\u001b[0m\u001b[0;34m\u001b[0m\u001b[0m\n\u001b[0m\u001b[1;32m      3\u001b[0m \u001b[0mdict_values\u001b[0m\u001b[0;34m(\u001b[0m\u001b[0;34m[\u001b[0m\u001b[0;34m'python'\u001b[0m\u001b[0;34m,\u001b[0m \u001b[0;34m'3.7'\u001b[0m\u001b[0;34m]\u001b[0m\u001b[0;34m)\u001b[0m\u001b[0;34m\u001b[0m\u001b[0;34m\u001b[0m\u001b[0m\n\u001b[1;32m      4\u001b[0m \u001b[0mdict_items\u001b[0m\u001b[0;34m(\u001b[0m\u001b[0;34m[\u001b[0m\u001b[0;34m(\u001b[0m\u001b[0;34m'name'\u001b[0m\u001b[0;34m,\u001b[0m \u001b[0;34m'python'\u001b[0m\u001b[0;34m)\u001b[0m\u001b[0;34m,\u001b[0m \u001b[0;34m(\u001b[0m\u001b[0;34m'version'\u001b[0m\u001b[0;34m,\u001b[0m \u001b[0;34m'3.7'\u001b[0m\u001b[0;34m)\u001b[0m\u001b[0;34m]\u001b[0m\u001b[0;34m)\u001b[0m\u001b[0;34m\u001b[0m\u001b[0;34m\u001b[0m\u001b[0m\n\u001b[1;32m      5\u001b[0m \u001b[0;32mTrue\u001b[0m\u001b[0;34m\u001b[0m\u001b[0;34m\u001b[0m\u001b[0m\n",
            "\u001b[0;31mNameError\u001b[0m: name 'dict_keys' is not defined"
          ]
        }
      ]
    },
    {
      "cell_type": "code",
      "source": [
        "#Chap.4 numpy套件(numeric python)\n",
        "#為什麼需要numpy?\n",
        "#numpy由c撰寫，速度快python 10~1000倍以上\n",
        "#numpy儲存結果較正確，python數字儲存不正確\n",
        "#numpy節省記憶體儲存空間\n",
        "#numpy的向量(矩陣計算)速度快\n",
        "#numpy的取值方便"
      ],
      "metadata": {
        "id": "j0KB8Fc7oEAo"
      },
      "execution_count": null,
      "outputs": []
    },
    {
      "cell_type": "code",
      "source": [
        "a_list=[1,2,3,4,5]\n",
        "print(a_list*3)"
      ],
      "metadata": {
        "colab": {
          "base_uri": "https://localhost:8080/"
        },
        "id": "h_Qrwyo9oG8X",
        "outputId": "a4e38d5d-9ecc-4ead-a8bc-d0677aec7d06"
      },
      "execution_count": null,
      "outputs": [
        {
          "output_type": "stream",
          "name": "stdout",
          "text": [
            "[1, 2, 3, 4, 5, 1, 2, 3, 4, 5, 1, 2, 3, 4, 5]\n"
          ]
        }
      ]
    },
    {
      "cell_type": "code",
      "source": [
        "#numpy套件的ndarray型態,提供element-wise的操作\n",
        "import numpy as np\n",
        "a=np.array([1,2,3,4,5])\n",
        "print(a*3)"
      ],
      "metadata": {
        "colab": {
          "base_uri": "https://localhost:8080/"
        },
        "id": "1eunvWTgoRM5",
        "outputId": "dec6dd9e-29d5-4ac2-d6ce-efa4454a1f17"
      },
      "execution_count": null,
      "outputs": [
        {
          "output_type": "stream",
          "name": "stdout",
          "text": [
            "[ 3  6  9 12 15]\n"
          ]
        }
      ]
    },
    {
      "cell_type": "code",
      "source": [
        "a=np.array([1,2,3,4,5])\n",
        "print(type(a))\n",
        "print(a.shape) #ndaary的形狀\n",
        "print(a.dtype) #資料的型態\n",
        "print(a.ndim) #維度"
      ],
      "metadata": {
        "colab": {
          "base_uri": "https://localhost:8080/"
        },
        "id": "Zd6nL0mAodSw",
        "outputId": "1e552207-aa50-4300-8833-384a89f67325"
      },
      "execution_count": null,
      "outputs": [
        {
          "output_type": "stream",
          "name": "stdout",
          "text": [
            "<class 'numpy.ndarray'>\n",
            "(5,)\n",
            "int64\n",
            "1\n"
          ]
        }
      ]
    },
    {
      "cell_type": "code",
      "source": [
        "import numpy as np\n",
        "z=np.zeros(6)\n",
        "print(z)\n",
        "print(np.empty((2,3,4)))\n",
        "print(np.arange(10))"
      ],
      "metadata": {
        "colab": {
          "base_uri": "https://localhost:8080/"
        },
        "id": "U45Tvw0SorE-",
        "outputId": "d3cfe7ea-c85b-42a0-86e7-ea9ecbf7590e"
      },
      "execution_count": null,
      "outputs": [
        {
          "output_type": "stream",
          "name": "stdout",
          "text": [
            "[0. 0. 0. 0. 0. 0.]\n",
            "[[[0. 0. 0. 0.]\n",
            "  [0. 0. 0. 0.]\n",
            "  [0. 0. 0. 0.]]\n",
            "\n",
            " [[0. 0. 0. 0.]\n",
            "  [0. 0. 0. 0.]\n",
            "  [0. 0. 0. 0.]]]\n",
            "[0 1 2 3 4 5 6 7 8 9]\n"
          ]
        }
      ]
    },
    {
      "cell_type": "code",
      "source": [
        "#ndarray的進階操作\n",
        "my_array=np.arange(10)\n",
        "print(my_array)\n",
        "print(my_array[0])\n",
        "print(my_array[0:5])"
      ],
      "metadata": {
        "colab": {
          "base_uri": "https://localhost:8080/"
        },
        "id": "HPL8mH0ioutf",
        "outputId": "1d3a90d4-9497-4a9d-95bb-f3d472637007"
      },
      "execution_count": null,
      "outputs": [
        {
          "output_type": "stream",
          "name": "stdout",
          "text": [
            "[0 1 2 3 4 5 6 7 8 9]\n",
            "0\n",
            "[0 1 2 3 4]\n"
          ]
        }
      ]
    },
    {
      "cell_type": "code",
      "source": [
        "#2維資料取值\n",
        "my_2d_array=np.array([np.arange(0,5),np.arange(5,10)])\n",
        "print(my_2d_array)\n",
        "print(my_2d_array[1,:])\n",
        "print(my_2d_array[:,1])\n",
        "print(my_2d_array[1,1])"
      ],
      "metadata": {
        "colab": {
          "base_uri": "https://localhost:8080/"
        },
        "id": "N3Z0b3O-ovzd",
        "outputId": "7c36c9cb-65c6-4d6c-8dba-ccd5602877e3"
      },
      "execution_count": null,
      "outputs": [
        {
          "output_type": "stream",
          "name": "stdout",
          "text": [
            "[[0 1 2 3 4]\n",
            " [5 6 7 8 9]]\n",
            "[5 6 7 8 9]\n",
            "[1 6]\n",
            "6\n"
          ]
        }
      ]
    },
    {
      "cell_type": "code",
      "source": [
        "my_array=np.arange(0,10)\n",
        "print(my_array)\n",
        "print(my_array.shape)\n",
        "my_2d_array=my_array.reshape(2,5)\n",
        "print(my_2d_array)\n",
        "print((np.arange(0,100).reshape(10,10)))"
      ],
      "metadata": {
        "colab": {
          "base_uri": "https://localhost:8080/"
        },
        "id": "Mb7-fvlEozFn",
        "outputId": "244add67-94bc-4e9a-c316-83614b6a427e"
      },
      "execution_count": null,
      "outputs": [
        {
          "output_type": "stream",
          "name": "stdout",
          "text": [
            "[0 1 2 3 4 5 6 7 8 9]\n",
            "(10,)\n",
            "[[0 1 2 3 4]\n",
            " [5 6 7 8 9]]\n",
            "[[ 0  1  2  3  4  5  6  7  8  9]\n",
            " [10 11 12 13 14 15 16 17 18 19]\n",
            " [20 21 22 23 24 25 26 27 28 29]\n",
            " [30 31 32 33 34 35 36 37 38 39]\n",
            " [40 41 42 43 44 45 46 47 48 49]\n",
            " [50 51 52 53 54 55 56 57 58 59]\n",
            " [60 61 62 63 64 65 66 67 68 69]\n",
            " [70 71 72 73 74 75 76 77 78 79]\n",
            " [80 81 82 83 84 85 86 87 88 89]\n",
            " [90 91 92 93 94 95 96 97 98 99]]\n"
          ]
        }
      ]
    },
    {
      "cell_type": "code",
      "source": [
        "#numpy的空值nan\n",
        "b=np.array([56, 8, 19, 14, np.nan])\n",
        "print(b)"
      ],
      "metadata": {
        "colab": {
          "base_uri": "https://localhost:8080/"
        },
        "id": "9Honlf-eo15D",
        "outputId": "57d3317d-cfe6-4d7f-f179-c8cea9b1cead"
      },
      "execution_count": null,
      "outputs": [
        {
          "output_type": "stream",
          "name": "stdout",
          "text": [
            "[56.  8. 19. 14. nan]\n"
          ]
        }
      ]
    },
    {
      "cell_type": "code",
      "source": [
        "#函式(數)\n",
        "#傳統的寫法\n",
        "import math\n",
        "radius = eval(input(\"請輸入圓的半徑：\")) #把輸入的字串變成數學計算型態\n",
        "print(\"圓的面積為：\", radius * radius * math.pi)"
      ],
      "metadata": {
        "colab": {
          "base_uri": "https://localhost:8080/"
        },
        "id": "HkUftqpCteHW",
        "outputId": "6b9d214f-dbf0-4aa7-d644-fb24ff795295"
      },
      "execution_count": 1,
      "outputs": [
        {
          "output_type": "stream",
          "name": "stdout",
          "text": [
            "請輸入圓的半徑：12\n",
            "圓的面積為： 452.3893421169302\n"
          ]
        }
      ]
    },
    {
      "cell_type": "code",
      "source": [
        "#面積計算函示\n",
        "import math\n",
        "def circle_area(radius):\n",
        "    area = radius * radius * math.pi\n",
        "    return area\n",
        "\n",
        "print(circle_area(10))"
      ],
      "metadata": {
        "id": "k2Teebz8uTld"
      },
      "execution_count": null,
      "outputs": []
    },
    {
      "cell_type": "code",
      "source": [
        "#os套件：用來處理文件與目錄，與檔案相關操作\n",
        "\n",
        "import os\n",
        "print(os.getcwd()) #顯示目前所在的工作目錄"
      ],
      "metadata": {
        "colab": {
          "base_uri": "https://localhost:8080/"
        },
        "id": "Thuy_iNAuZXl",
        "outputId": "adfbac18-51b3-409b-96f9-6ca1cf51a30c"
      },
      "execution_count": 2,
      "outputs": [
        {
          "output_type": "stream",
          "name": "stdout",
          "text": [
            "/content\n"
          ]
        }
      ]
    },
    {
      "cell_type": "code",
      "source": [
        "#顯示目錄下的檔案\n",
        "os.listdir(\".\")"
      ],
      "metadata": {
        "id": "Xtvuhx51ujk5"
      },
      "execution_count": null,
      "outputs": []
    },
    {
      "cell_type": "code",
      "source": [
        "#新增目錄\n",
        "os.makedirs(\"test\")\n",
        "os.listdir(\".\")"
      ],
      "metadata": {
        "id": "tNKVJ265ulYj"
      },
      "execution_count": null,
      "outputs": []
    },
    {
      "cell_type": "code",
      "source": [
        "#移除目錄\n",
        "os.rmdir(\"test\")\n",
        "os.listdir(\".\")\n"
      ],
      "metadata": {
        "id": "_TwfJeU9u4YZ"
      },
      "execution_count": null,
      "outputs": []
    },
    {
      "cell_type": "markdown",
      "source": [
        "檔案處理\n",
        "os套件有自己的檔案處理命令，而比較常用的是python內建的open\n",
        "\n",
        "w = 可寫(預設建立檔案) 若檔案存在則會清除舊檔案\n",
        "w+ = 可寫可讀(預設建立檔案) 若檔案存在則會清除舊檔案\n",
        "r = 可讀\n",
        "r+ = 可寫可讀 但寫入資料指向開頭\n",
        "a = 可寫不能讀 寫入資料指向尾端\n",
        "a+ = 可寫可讀 寫入資料指向尾端\n",
        "b = 轉為2進位文件\n",
        "ab+ = 2進位文件的讀寫 寫入資料指向尾端\n",
        "新增檔案"
      ],
      "metadata": {
        "id": "Yx7MZ07_u_r5"
      }
    },
    {
      "cell_type": "code",
      "source": [
        "#新增檔案\n",
        "a=open(\"a.txt\",\"w\") #新增檔案\n",
        "a.write(\"This is a test1\")\n",
        "a.write(\"This is a test2\\n\")\n",
        "a.write(\"This is a test3\\n\")\n",
        "a.close() #關閉檔案"
      ],
      "metadata": {
        "id": "A2GTHCK7u7sB"
      },
      "execution_count": null,
      "outputs": []
    },
    {
      "cell_type": "code",
      "source": [
        "#檢查檔案是否存在\n",
        "os.path.isfile(\"a.txt\")"
      ],
      "metadata": {
        "id": "N77niKNsvKLb"
      },
      "execution_count": null,
      "outputs": []
    },
    {
      "cell_type": "code",
      "source": [
        "#讀取檔案\n",
        "a=open(\"a.txt\",\"r\")\n",
        "print(a.readline())\n",
        "print(a.readline())\n",
        "print(a.readline()) #多餘的命令，檔案只有2行\n",
        "a.close()"
      ],
      "metadata": {
        "id": "lcNPWw55vMkw"
      },
      "execution_count": null,
      "outputs": []
    },
    {
      "cell_type": "code",
      "source": [
        "a=open(\"a.txt\",\"r\")\n",
        "print(a.readlines())  #一次讀取多行，與a.read()命令相同\n",
        "a.close()"
      ],
      "metadata": {
        "colab": {
          "base_uri": "https://localhost:8080/",
          "height": 210
        },
        "id": "l2lWRufkvOAb",
        "outputId": "3a7459e6-3c91-4fe6-ea6f-994f1c93435e"
      },
      "execution_count": 3,
      "outputs": [
        {
          "output_type": "error",
          "ename": "FileNotFoundError",
          "evalue": "ignored",
          "traceback": [
            "\u001b[0;31m---------------------------------------------------------------------------\u001b[0m",
            "\u001b[0;31mFileNotFoundError\u001b[0m                         Traceback (most recent call last)",
            "\u001b[0;32m<ipython-input-3-9a61cf0f7cf7>\u001b[0m in \u001b[0;36m<module>\u001b[0;34m()\u001b[0m\n\u001b[0;32m----> 1\u001b[0;31m \u001b[0ma\u001b[0m\u001b[0;34m=\u001b[0m\u001b[0mopen\u001b[0m\u001b[0;34m(\u001b[0m\u001b[0;34m\"a.txt\"\u001b[0m\u001b[0;34m,\u001b[0m\u001b[0;34m\"r\"\u001b[0m\u001b[0;34m)\u001b[0m\u001b[0;34m\u001b[0m\u001b[0;34m\u001b[0m\u001b[0m\n\u001b[0m\u001b[1;32m      2\u001b[0m \u001b[0mprint\u001b[0m\u001b[0;34m(\u001b[0m\u001b[0ma\u001b[0m\u001b[0;34m.\u001b[0m\u001b[0mreadlines\u001b[0m\u001b[0;34m(\u001b[0m\u001b[0;34m)\u001b[0m\u001b[0;34m)\u001b[0m  \u001b[0;31m#一次讀取多行，與a.read()命令相同\u001b[0m\u001b[0;34m\u001b[0m\u001b[0;34m\u001b[0m\u001b[0m\n\u001b[1;32m      3\u001b[0m \u001b[0ma\u001b[0m\u001b[0;34m.\u001b[0m\u001b[0mclose\u001b[0m\u001b[0;34m(\u001b[0m\u001b[0;34m)\u001b[0m\u001b[0;34m\u001b[0m\u001b[0;34m\u001b[0m\u001b[0m\n",
            "\u001b[0;31mFileNotFoundError\u001b[0m: [Errno 2] No such file or directory: 'a.txt'"
          ]
        }
      ]
    },
    {
      "cell_type": "code",
      "source": [
        "#加上檔案是否存在的判斷\n",
        "if os.path.isfile(\"a.txt\"):\n",
        "    a=open(\"a.txt\",\"r\")\n",
        "    print(a.readlines())\n",
        "    a.close()\n",
        "else:\n",
        "    print(\"檔案不存在\")"
      ],
      "metadata": {
        "id": "kGTLGf-2vWa7"
      },
      "execution_count": null,
      "outputs": []
    },
    {
      "cell_type": "code",
      "source": [
        "#split函式\n",
        "if os.path.isfile(\"a.txt\"):\n",
        "    a=open(\"a.txt\",\"r\")\n",
        "    for line in a:\n",
        "        fields=line.split(\" \") #以空白為切割欄位\n",
        "        print(fields)\n",
        "    a.close()\n",
        "else:\n",
        "    print(\"檔案不存在\")"
      ],
      "metadata": {
        "id": "p1Ulr-_PvYG5"
      },
      "execution_count": null,
      "outputs": []
    },
    {
      "cell_type": "code",
      "source": [
        "#附加檔案\n",
        "a=open(\"a.txt\", \"a\")\n",
        "a.write(\"This is test4\\n\")\n",
        "a.close()\n",
        "\n",
        "a=open(\"a.txt\",\"r\")\n",
        "print(a.readlines())\n",
        "a.close()"
      ],
      "metadata": {
        "id": "wxJUZVuDvem3"
      },
      "execution_count": null,
      "outputs": []
    },
    {
      "cell_type": "markdown",
      "source": [
        "比較a與r+的不同\n",
        "a寫在檔案的結尾\n",
        "r+寫在檔案的開頭"
      ],
      "metadata": {
        "id": "eiyBoB8DvhsX"
      }
    },
    {
      "cell_type": "code",
      "source": [
        "a=open(\"a.txt\",\"r+\")\n",
        "a.write(\"This is a test5\\n\")\n",
        "a.close()"
      ],
      "metadata": {
        "id": "owUxx-xrvkMx"
      },
      "execution_count": null,
      "outputs": []
    },
    {
      "cell_type": "code",
      "source": [
        "a=open(\"a.txt\",\"r\")\n",
        "print(a.readlines())\n",
        "a.close()"
      ],
      "metadata": {
        "id": "6zfQ7o6Uvmsh"
      },
      "execution_count": null,
      "outputs": []
    },
    {
      "cell_type": "code",
      "source": [
        "#刪除檔案\n",
        "if os.path.isfile(\"a.txt\"):\n",
        "    os.remove(\"a.txt\")\n",
        "    print(\"檔案刪除成功\")\n",
        "else:\n",
        "    print(\"找不到檔案\")\n",
        "print(os.path.isfile(\"a.txt\"))"
      ],
      "metadata": {
        "id": "KZbVeFyFvpgK"
      },
      "execution_count": null,
      "outputs": []
    },
    {
      "cell_type": "markdown",
      "source": [
        "Chap7 \n",
        "錯誤處理\n",
        "try:\n",
        "except:\n",
        "else:\n",
        "finally:"
      ],
      "metadata": {
        "id": "aTfB7cpsvwu1"
      }
    },
    {
      "cell_type": "code",
      "source": [
        "a=10\n",
        "b=20\n",
        "if a<b:\n",
        "    print(n)"
      ],
      "metadata": {
        "colab": {
          "base_uri": "https://localhost:8080/",
          "height": 210
        },
        "id": "CDQ6jc1Kv250",
        "outputId": "5d140482-0eda-4ac9-b447-fa303dc569cb"
      },
      "execution_count": 4,
      "outputs": [
        {
          "output_type": "error",
          "ename": "NameError",
          "evalue": "ignored",
          "traceback": [
            "\u001b[0;31m---------------------------------------------------------------------------\u001b[0m",
            "\u001b[0;31mNameError\u001b[0m                                 Traceback (most recent call last)",
            "\u001b[0;32m<ipython-input-4-c19f432ee023>\u001b[0m in \u001b[0;36m<module>\u001b[0;34m()\u001b[0m\n\u001b[1;32m      2\u001b[0m \u001b[0mb\u001b[0m\u001b[0;34m=\u001b[0m\u001b[0;36m20\u001b[0m\u001b[0;34m\u001b[0m\u001b[0;34m\u001b[0m\u001b[0m\n\u001b[1;32m      3\u001b[0m \u001b[0;32mif\u001b[0m \u001b[0ma\u001b[0m\u001b[0;34m<\u001b[0m\u001b[0mb\u001b[0m\u001b[0;34m:\u001b[0m\u001b[0;34m\u001b[0m\u001b[0;34m\u001b[0m\u001b[0m\n\u001b[0;32m----> 4\u001b[0;31m     \u001b[0mprint\u001b[0m\u001b[0;34m(\u001b[0m\u001b[0mn\u001b[0m\u001b[0;34m)\u001b[0m\u001b[0;34m\u001b[0m\u001b[0;34m\u001b[0m\u001b[0m\n\u001b[0m",
            "\u001b[0;31mNameError\u001b[0m: name 'n' is not defined"
          ]
        }
      ]
    },
    {
      "cell_type": "code",
      "source": [
        "a=10\n",
        "b=20\n",
        "try:\n",
        "    if a<b:\n",
        "        print(n)\n",
        "except:\n",
        "    print(\"錯誤產生\")"
      ],
      "metadata": {
        "colab": {
          "base_uri": "https://localhost:8080/"
        },
        "id": "Vjg61QbBv6JA",
        "outputId": "f260a8ae-e4c9-49d6-e9c2-987bb427f0fa"
      },
      "execution_count": 5,
      "outputs": [
        {
          "output_type": "stream",
          "name": "stdout",
          "text": [
            "錯誤產生\n"
          ]
        }
      ]
    },
    {
      "cell_type": "code",
      "source": [
        "#指定錯誤類別處理\n",
        "a=10\n",
        "b=20\n",
        "try:\n",
        "    if a<b:\n",
        "        print(n)\n",
        "except NameError as e:\n",
        "    print(\"錯誤產生, 錯誤原因：\",e)\n",
        "except ZeroDivisionError:\n",
        "    print(\"除以0錯誤\")"
      ],
      "metadata": {
        "id": "EXzwRy6jv-Rt"
      },
      "execution_count": null,
      "outputs": []
    },
    {
      "cell_type": "code",
      "source": [
        "#指定錯誤類別處理\n",
        "a=10\n",
        "b=20\n",
        "try:\n",
        "    if a<b:\n",
        "        print(n)\n",
        "except NameError as e:\n",
        "    print(\"錯誤產生, 錯誤原因：\",e)\n",
        "except ZeroDivisionError:\n",
        "    print(\"除以0錯誤\")"
      ],
      "metadata": {
        "colab": {
          "base_uri": "https://localhost:8080/"
        },
        "id": "RtwQzhiMv_SC",
        "outputId": "75b0317e-7520-4b42-d392-7f20ef1c5529"
      },
      "execution_count": 7,
      "outputs": [
        {
          "output_type": "stream",
          "name": "stdout",
          "text": [
            "錯誤產生, 錯誤原因： name 'n' is not defined\n"
          ]
        }
      ]
    },
    {
      "cell_type": "code",
      "source": [
        "#else\n",
        "#沒有錯誤產生會執行的部分\n",
        "\n",
        "a=10\n",
        "b=20\n",
        "try:\n",
        "    if a>b: #改變比較條件，讓錯誤不發生\n",
        "        print(n)\n",
        "except:\n",
        "    print(\"錯誤發生\")\n",
        "else:\n",
        "    print(\"沒有錯誤發生時會執行的部分\")"
      ],
      "metadata": {
        "colab": {
          "base_uri": "https://localhost:8080/"
        },
        "id": "ipsnKIO5wKaU",
        "outputId": "cd1add2f-2105-4afd-d780-26f78cf0aad8"
      },
      "execution_count": 6,
      "outputs": [
        {
          "output_type": "stream",
          "name": "stdout",
          "text": [
            "沒有錯誤發生時會執行的部分\n"
          ]
        }
      ]
    },
    {
      "cell_type": "code",
      "source": [
        "a=10\n",
        "b=20\n",
        "try:\n",
        "    if a>b: #改變比較條件，讓錯誤不發生\n",
        "        print(n)\n",
        "except:\n",
        "    print(\"錯誤發生\")\n",
        "else:\n",
        "    print(\"沒有錯誤發生時會執行的部分\")\n",
        "finally:\n",
        "    print(\"不管有沒有錯誤一定會執行的部分\")"
      ],
      "metadata": {
        "colab": {
          "base_uri": "https://localhost:8080/"
        },
        "id": "IwCmpEsywN4o",
        "outputId": "77c399c1-2eb2-4f3d-d0e3-a359aff4d795"
      },
      "execution_count": 8,
      "outputs": [
        {
          "output_type": "stream",
          "name": "stdout",
          "text": [
            "沒有錯誤發生時會執行的部分\n",
            "不管有沒有錯誤一定會執行的部分\n"
          ]
        }
      ]
    }
  ]
}